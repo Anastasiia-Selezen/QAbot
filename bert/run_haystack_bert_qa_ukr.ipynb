{
 "cells": [
  {
   "cell_type": "code",
   "execution_count": null,
   "id": "50dfad30",
   "metadata": {},
   "outputs": [],
   "source": [
    "# !pip3 install farm-haystack"
   ]
  },
  {
   "cell_type": "code",
   "execution_count": 2,
   "id": "358b9d51",
   "metadata": {
    "pycharm": {
     "is_executing": true
    }
   },
   "outputs": [],
   "source": [
    "from haystack.reader import FARMReader\n",
    "from haystack.schema import Document\n",
    "from farm.utils import initialize_device_settings"
   ]
  },
  {
   "cell_type": "code",
   "execution_count": null,
   "id": "28b7a891",
   "metadata": {},
   "outputs": [],
   "source": [
    "device, n_gpu = initialize_device_settings(use_cuda=False)"
   ]
  },
  {
   "cell_type": "code",
   "execution_count": 3,
   "id": "7efd7e97",
   "metadata": {},
   "outputs": [],
   "source": [
    "path = \"uk-bert-qa\""
   ]
  },
  {
   "cell_type": "code",
   "execution_count": 4,
   "id": "a2390a27",
   "metadata": {},
   "outputs": [
    {
     "name": "stderr",
     "output_type": "stream",
     "text": [
      "08/03/2021 09:53:47 - INFO - farm.utils -   Using device: CPU \n",
      "08/03/2021 09:53:47 - INFO - farm.utils -   Number of GPUs: 0\n",
      "08/03/2021 09:53:47 - INFO - farm.utils -   Distributed Training: False\n",
      "08/03/2021 09:53:47 - INFO - farm.utils -   Automatic Mixed Precision: None\n",
      "08/03/2021 09:53:48 - WARNING - farm.modeling.prediction_head -   Some unused parameters are passed to the QuestionAnsweringHead. Might not be a problem. Params: {\"training\": true, \"num_labels\": 2, \"ph_output_type\": \"per_token_squad\", \"model_type\": \"span_classification\", \"label_tensor_name\": \"question_answering_label_ids\", \"label_list\": [\"start_token\", \"end_token\"], \"metric\": \"squad\", \"name\": \"QuestionAnsweringHead\"}\n",
      "08/03/2021 09:53:48 - WARNING - farm.utils -   ML Logging is turned off. No parameters, metrics or artifacts will be logged to MLFlow.\n",
      "08/03/2021 09:53:48 - INFO - farm.utils -   Using device: CPU \n",
      "08/03/2021 09:53:48 - INFO - farm.utils -   Number of GPUs: 0\n",
      "08/03/2021 09:53:48 - INFO - farm.utils -   Distributed Training: False\n",
      "08/03/2021 09:53:48 - INFO - farm.utils -   Automatic Mixed Precision: None\n",
      "08/03/2021 09:53:49 - INFO - farm.infer -   Got ya 15 parallel workers to do inference ...\n",
      "08/03/2021 09:53:49 - INFO - farm.infer -    0    0    0    0    0    0    0    0    0    0    0    0    0    0    0 \n",
      "08/03/2021 09:53:49 - INFO - farm.infer -   /w\\  /w\\  /w\\  /w\\  /w\\  /w\\  /w\\  /|\\  /w\\  /w\\  /w\\  /w\\  /w\\  /w\\  /|\\\n",
      "08/03/2021 09:53:49 - INFO - farm.infer -   /'\\  / \\  /'\\  /'\\  / \\  / \\  /'\\  /'\\  /'\\  /'\\  /'\\  /'\\  / \\  /'\\  /'\\\n",
      "08/03/2021 09:53:49 - INFO - farm.infer -                               \n"
     ]
    }
   ],
   "source": [
    "reader = FARMReader(model_name_or_path=path, use_gpu=False)"
   ]
  },
  {
   "cell_type": "code",
   "execution_count": 11,
   "id": "07755fd6",
   "metadata": {},
   "outputs": [],
   "source": [
    "docs = [\n",
    "        Document(\n",
    "            text=\"\"\"Різні американські випускники Idol мали успіх на різних рекордах світу; у США за перші\n",
    "десять років вони досягли 345 номерів на чартах Billboard. За словами Фреда Бронсона, автора\n",
    "книг на чартах Billboard, жодна інша організація ще ніколи не створила стільки хіт-виконавців та\n",
    "найкращих альбомів та синглів. У 2007 році випускники American Idol складали 2,1% усіх продажів\n",
    "музики. Його випускники мають величезний вплив на радіо; У 2007 році American Idol став\n",
    "'домінуючою силою в радіо' за словами президента дослідницької компанії Mediabase, яка здійснює моніторинг радіостанцій\n",
    "Річа Мейєра. До 2010 року чотири переможці мали більше мільйона радіо-крутинок, Келлі Кларксон очолював\n",
    "поле з понад чотирма мільйонами.\"\"\"\n",
    "        )\n",
    "    ]\n",
    "q = 'Скільки синглів номер один Billboard випустили учасники American Idol у шоу за перше десятиліття?'\n",
    "\n",
    "docs2 = [\n",
    "        Document(\n",
    "            text=\"\"\"Нам шкода почути, що Ви все ще не отримали Вашу посилку. Наразі ми відчуваємо деякий міжнародний трафік з точки зору доставки пакетів, і такі випадки трапляються. Наша політика: якщо це триває більше 35 днів, ми повернемо вам 30%; якщо більше 42, ми повернемо вам кошти повністю або повторно надішлемо ваше замовлення.\n",
    "Тепер вам відшкодували 100% за затримку. Будь ласка, зачекайте 48 годин, поки ваше відшкодування буде оброблено. Ви отримаєте сповіщення електронною поштою на адресу електронної пошти, зазначену у вашому обліковому записі, коли буде надіслано відшкодування.\n",
    "Зверніть увагу, що вашій банківській установі може знадобитися додатковий час для обробки та розміщення цієї транзакції на вашому рахунку після того, як вони отримають від нас інформацію.\n",
    "Майте на увазі, що ми можемо повернути кошти лише за початкову форму оплати, яка була використана в момент покупки.\n",
    "Наші щирі вибачення, \"\"\"\n",
    "        )\n",
    "    ]\n",
    "q2 = 'Скiльки вiдшкодувань я отримаю за затримку?'\n",
    "\n",
    "docs3 = [\n",
    "        Document(\n",
    "            text=\"\"\"Карл у Клари украв корали, а Клара у Карла украла кларнет,\n",
    "Та Карл у Клари не крав коралі, а Клара у Карла не крала кларнет.\n",
    "Карл і Клара добра пара, кларнетисти Карл і Клара.\"\"\"\n",
    "        )\n",
    "    ]\n",
    "q3 = 'Чий кларнет?'"
   ]
  },
  {
   "cell_type": "code",
   "execution_count": 12,
   "id": "a80c369c",
   "metadata": {},
   "outputs": [
    {
     "name": "stdout",
     "output_type": "stream",
     "text": [
      "huggingface/tokenizers: The current process just got forked, after parallelism has already been used. Disabling parallelism to avoid deadlocks...\n",
      "To disable this warning, you can either:\n",
      "\t- Avoid using `tokenizers` before the fork if possible\n",
      "\t- Explicitly set the environment variable TOKENIZERS_PARALLELISM=(true | false)\n"
     ]
    },
    {
     "name": "stderr",
     "output_type": "stream",
     "text": [
      "Inferencing Samples: 100%|██████████| 1/1 [00:00<00:00,  1.63 Batches/s]\n"
     ]
    },
    {
     "data": {
      "text/plain": [
       "{'query': 'Чий кларнет?',\n",
       " 'no_ans_gap': 16.640515327453613,\n",
       " 'answers': [{'answer': 'Карл і Клара',\n",
       "   'score': 3.524773597717285,\n",
       "   'probability': 0.5109034776687622,\n",
       "   'context': ', а Клара у Карла украла кларнет,\\nТа Карл у Клари не крав коралі, а Клара у Карла не крала кларнет.\\nКарл і Клара добра пара, кларнетисти Карл і Клара.',\n",
       "   'offset_start': 137,\n",
       "   'offset_end': 149,\n",
       "   'offset_start_in_doc': 162,\n",
       "   'offset_end_in_doc': 174,\n",
       "   'document_id': '5bb0e60a23d634d94c1fa80fb35f2980'}]}"
      ]
     },
     "execution_count": 12,
     "metadata": {},
     "output_type": "execute_result"
    }
   ],
   "source": [
    "reader.predict(q3, documents=docs3)"
   ]
  },
  {
   "cell_type": "code",
   "execution_count": null,
   "id": "c0641bd2",
   "metadata": {},
   "outputs": [],
   "source": []
  }
 ],
 "metadata": {
  "kernelspec": {
   "display_name": "Python 3 (ipykernel)",
   "language": "python",
   "name": "python3"
  },
  "language_info": {
   "codemirror_mode": {
    "name": "ipython",
    "version": 3
   },
   "file_extension": ".py",
   "mimetype": "text/x-python",
   "name": "python",
   "nbconvert_exporter": "python",
   "pygments_lexer": "ipython3",
   "version": "3.8.9"
  }
 },
 "nbformat": 4,
 "nbformat_minor": 5
}